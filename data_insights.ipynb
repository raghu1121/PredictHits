{
 "cells": [
  {
   "cell_type": "markdown",
   "metadata": {},
   "source": [
    "__This file discusses some observations from the data. Most of them are self-explainable through graphs.__\n",
    "\n",
    "`session_durantion` has some NANs, so they are interpolated. "
   ]
  },
  {
   "cell_type": "code",
   "execution_count": 1,
   "metadata": {},
   "outputs": [
    {
     "data": {
      "text/html": [
       "<div>\n",
       "<style scoped>\n",
       "    .dataframe tbody tr th:only-of-type {\n",
       "        vertical-align: middle;\n",
       "    }\n",
       "\n",
       "    .dataframe tbody tr th {\n",
       "        vertical-align: top;\n",
       "    }\n",
       "\n",
       "    .dataframe thead th {\n",
       "        text-align: right;\n",
       "    }\n",
       "</style>\n",
       "<table border=\"1\" class=\"dataframe\">\n",
       "  <thead>\n",
       "    <tr style=\"text-align: right;\">\n",
       "      <th></th>\n",
       "      <th>row_num</th>\n",
       "      <th>locale</th>\n",
       "      <th>day_of_week</th>\n",
       "      <th>hour_of_day</th>\n",
       "      <th>agent_id</th>\n",
       "      <th>entry_page</th>\n",
       "      <th>path_id_set</th>\n",
       "      <th>traffic_type</th>\n",
       "      <th>session_durantion</th>\n",
       "      <th>hits</th>\n",
       "    </tr>\n",
       "  </thead>\n",
       "  <tbody>\n",
       "    <tr>\n",
       "      <th>988671</th>\n",
       "      <td>10</td>\n",
       "      <td>L4</td>\n",
       "      <td>Wednesday</td>\n",
       "      <td>23</td>\n",
       "      <td>10</td>\n",
       "      <td>8001</td>\n",
       "      <td>79178</td>\n",
       "      <td>1</td>\n",
       "      <td>173</td>\n",
       "      <td>3</td>\n",
       "    </tr>\n",
       "    <tr>\n",
       "      <th>988672</th>\n",
       "      <td>9</td>\n",
       "      <td>L1</td>\n",
       "      <td>Sunday</td>\n",
       "      <td>10</td>\n",
       "      <td>10</td>\n",
       "      <td>2113</td>\n",
       "      <td>74017;0</td>\n",
       "      <td>2</td>\n",
       "      <td>813</td>\n",
       "      <td>69</td>\n",
       "    </tr>\n",
       "    <tr>\n",
       "      <th>988674</th>\n",
       "      <td>7</td>\n",
       "      <td>L3</td>\n",
       "      <td>Tuesday</td>\n",
       "      <td>13</td>\n",
       "      <td>7</td>\n",
       "      <td>2113</td>\n",
       "      <td>44337;0</td>\n",
       "      <td>2</td>\n",
       "      <td>621</td>\n",
       "      <td>37</td>\n",
       "    </tr>\n",
       "    <tr>\n",
       "      <th>988675</th>\n",
       "      <td>6</td>\n",
       "      <td>L6</td>\n",
       "      <td>Friday</td>\n",
       "      <td>5</td>\n",
       "      <td>8</td>\n",
       "      <td>2113</td>\n",
       "      <td>38715;0</td>\n",
       "      <td>4</td>\n",
       "      <td>0</td>\n",
       "      <td>2</td>\n",
       "    </tr>\n",
       "    <tr>\n",
       "      <th>988680</th>\n",
       "      <td>1</td>\n",
       "      <td>L4</td>\n",
       "      <td>Thursday</td>\n",
       "      <td>15</td>\n",
       "      <td>1</td>\n",
       "      <td>2116</td>\n",
       "      <td>76673;0</td>\n",
       "      <td>2</td>\n",
       "      <td>4544</td>\n",
       "      <td>18</td>\n",
       "    </tr>\n",
       "  </tbody>\n",
       "</table>\n",
       "</div>"
      ],
      "text/plain": [
       "        row_num locale day_of_week  hour_of_day  agent_id  entry_page  \\\n",
       "988671       10     L4   Wednesday           23        10        8001   \n",
       "988672        9     L1      Sunday           10        10        2113   \n",
       "988674        7     L3     Tuesday           13         7        2113   \n",
       "988675        6     L6      Friday            5         8        2113   \n",
       "988680        1     L4    Thursday           15         1        2116   \n",
       "\n",
       "       path_id_set  traffic_type session_durantion hits  \n",
       "988671       79178             1               173    3  \n",
       "988672     74017;0             2               813   69  \n",
       "988674     44337;0             2               621   37  \n",
       "988675     38715;0             4                 0    2  \n",
       "988680     76673;0             2              4544   18  "
      ]
     },
     "execution_count": 1,
     "metadata": {},
     "output_type": "execute_result"
    }
   ],
   "source": [
    "import pandas as pd\n",
    "import numpy as np\n",
    "df = pd.read_csv('Data.csv', delimiter=';')\n",
    "nan_df = df[df['hits'] == '\\\\N']\n",
    "df = df[df['hits'] != '\\\\N']\n",
    "df['session_durantion'] = df['session_durantion'].replace(to_replace='\\\\N',value =np.nan)\n",
    "df['session_durantion'].interpolate(method = 'spline', order = 3 ,inplace= True)\n",
    "df.tail()"
   ]
  },
  {
   "cell_type": "markdown",
   "metadata": {},
   "source": [
    "It is difficult to use `path_id_set` as it is. Therefore it is transformed to `path_length` and `path_imp`.\n",
    "The `path_length` stores the number of IDs each path has."
   ]
  },
  {
   "cell_type": "code",
   "execution_count": 2,
   "metadata": {},
   "outputs": [
    {
     "name": "stderr",
     "output_type": "stream",
     "text": [
      "/Users/raghuramkalyanam/anaconda/lib/python3.6/site-packages/pandas/core/indexing.py:202: SettingWithCopyWarning: \n",
      "A value is trying to be set on a copy of a slice from a DataFrame\n",
      "\n",
      "See the caveats in the documentation: http://pandas.pydata.org/pandas-docs/stable/user_guide/indexing.html#returning-a-view-versus-a-copy\n",
      "  self._setitem_with_indexer(indexer, value)\n"
     ]
    },
    {
     "data": {
      "text/html": [
       "<div>\n",
       "<style scoped>\n",
       "    .dataframe tbody tr th:only-of-type {\n",
       "        vertical-align: middle;\n",
       "    }\n",
       "\n",
       "    .dataframe tbody tr th {\n",
       "        vertical-align: top;\n",
       "    }\n",
       "\n",
       "    .dataframe thead th {\n",
       "        text-align: right;\n",
       "    }\n",
       "</style>\n",
       "<table border=\"1\" class=\"dataframe\">\n",
       "  <thead>\n",
       "    <tr style=\"text-align: right;\">\n",
       "      <th></th>\n",
       "      <th>row_num</th>\n",
       "      <th>locale</th>\n",
       "      <th>day_of_week</th>\n",
       "      <th>hour_of_day</th>\n",
       "      <th>agent_id</th>\n",
       "      <th>entry_page</th>\n",
       "      <th>path_id_set</th>\n",
       "      <th>traffic_type</th>\n",
       "      <th>session_durantion</th>\n",
       "      <th>hits</th>\n",
       "      <th>path_length</th>\n",
       "    </tr>\n",
       "  </thead>\n",
       "  <tbody>\n",
       "    <tr>\n",
       "      <th>988671</th>\n",
       "      <td>10</td>\n",
       "      <td>L4</td>\n",
       "      <td>Wednesday</td>\n",
       "      <td>23</td>\n",
       "      <td>10</td>\n",
       "      <td>8001</td>\n",
       "      <td>[79178]</td>\n",
       "      <td>1</td>\n",
       "      <td>173</td>\n",
       "      <td>3</td>\n",
       "      <td>1</td>\n",
       "    </tr>\n",
       "    <tr>\n",
       "      <th>988672</th>\n",
       "      <td>9</td>\n",
       "      <td>L1</td>\n",
       "      <td>Sunday</td>\n",
       "      <td>10</td>\n",
       "      <td>10</td>\n",
       "      <td>2113</td>\n",
       "      <td>[74017, 0]</td>\n",
       "      <td>2</td>\n",
       "      <td>813</td>\n",
       "      <td>69</td>\n",
       "      <td>2</td>\n",
       "    </tr>\n",
       "    <tr>\n",
       "      <th>988674</th>\n",
       "      <td>7</td>\n",
       "      <td>L3</td>\n",
       "      <td>Tuesday</td>\n",
       "      <td>13</td>\n",
       "      <td>7</td>\n",
       "      <td>2113</td>\n",
       "      <td>[44337, 0]</td>\n",
       "      <td>2</td>\n",
       "      <td>621</td>\n",
       "      <td>37</td>\n",
       "      <td>2</td>\n",
       "    </tr>\n",
       "    <tr>\n",
       "      <th>988675</th>\n",
       "      <td>6</td>\n",
       "      <td>L6</td>\n",
       "      <td>Friday</td>\n",
       "      <td>5</td>\n",
       "      <td>8</td>\n",
       "      <td>2113</td>\n",
       "      <td>[38715, 0]</td>\n",
       "      <td>4</td>\n",
       "      <td>0</td>\n",
       "      <td>2</td>\n",
       "      <td>2</td>\n",
       "    </tr>\n",
       "    <tr>\n",
       "      <th>988680</th>\n",
       "      <td>1</td>\n",
       "      <td>L4</td>\n",
       "      <td>Thursday</td>\n",
       "      <td>15</td>\n",
       "      <td>1</td>\n",
       "      <td>2116</td>\n",
       "      <td>[76673, 0]</td>\n",
       "      <td>2</td>\n",
       "      <td>4544</td>\n",
       "      <td>18</td>\n",
       "      <td>2</td>\n",
       "    </tr>\n",
       "  </tbody>\n",
       "</table>\n",
       "</div>"
      ],
      "text/plain": [
       "        row_num locale day_of_week  hour_of_day  agent_id  entry_page  \\\n",
       "988671       10     L4   Wednesday           23        10        8001   \n",
       "988672        9     L1      Sunday           10        10        2113   \n",
       "988674        7     L3     Tuesday           13         7        2113   \n",
       "988675        6     L6      Friday            5         8        2113   \n",
       "988680        1     L4    Thursday           15         1        2116   \n",
       "\n",
       "       path_id_set  traffic_type session_durantion hits  path_length  \n",
       "988671     [79178]             1               173    3            1  \n",
       "988672  [74017, 0]             2               813   69            2  \n",
       "988674  [44337, 0]             2               621   37            2  \n",
       "988675  [38715, 0]             4                 0    2            2  \n",
       "988680  [76673, 0]             2              4544   18            2  "
      ]
     },
     "execution_count": 2,
     "metadata": {},
     "output_type": "execute_result"
    }
   ],
   "source": [
    "df['path_id_set'] = df['path_id_set'].str.split(';')\n",
    "df['path_id_set'].loc[df['path_id_set'].isnull()] = df['path_id_set'].loc[df['path_id_set'].isnull()].apply(lambda x: [])\n",
    "df['path_length'] = df['path_id_set'].apply(len)\n",
    "df.tail()"
   ]
  },
  {
   "cell_type": "markdown",
   "metadata": {},
   "source": [
    "`path_imp` stores the sum of weighted frequencies of each set of `path_id_set`."
   ]
  },
  {
   "cell_type": "code",
   "execution_count": 3,
   "metadata": {},
   "outputs": [
    {
     "data": {
      "text/html": [
       "<div>\n",
       "<style scoped>\n",
       "    .dataframe tbody tr th:only-of-type {\n",
       "        vertical-align: middle;\n",
       "    }\n",
       "\n",
       "    .dataframe tbody tr th {\n",
       "        vertical-align: top;\n",
       "    }\n",
       "\n",
       "    .dataframe thead th {\n",
       "        text-align: right;\n",
       "    }\n",
       "</style>\n",
       "<table border=\"1\" class=\"dataframe\">\n",
       "  <thead>\n",
       "    <tr style=\"text-align: right;\">\n",
       "      <th></th>\n",
       "      <th>row_num</th>\n",
       "      <th>locale</th>\n",
       "      <th>day_of_week</th>\n",
       "      <th>hour_of_day</th>\n",
       "      <th>agent_id</th>\n",
       "      <th>entry_page</th>\n",
       "      <th>path_id_set</th>\n",
       "      <th>traffic_type</th>\n",
       "      <th>session_durantion</th>\n",
       "      <th>hits</th>\n",
       "      <th>path_length</th>\n",
       "      <th>path_imp</th>\n",
       "    </tr>\n",
       "  </thead>\n",
       "  <tbody>\n",
       "    <tr>\n",
       "      <th>988671</th>\n",
       "      <td>10</td>\n",
       "      <td>L4</td>\n",
       "      <td>Wednesday</td>\n",
       "      <td>23</td>\n",
       "      <td>10</td>\n",
       "      <td>8001</td>\n",
       "      <td>[79178]</td>\n",
       "      <td>1</td>\n",
       "      <td>173</td>\n",
       "      <td>3</td>\n",
       "      <td>1</td>\n",
       "      <td>0.000304</td>\n",
       "    </tr>\n",
       "    <tr>\n",
       "      <th>988672</th>\n",
       "      <td>9</td>\n",
       "      <td>L1</td>\n",
       "      <td>Sunday</td>\n",
       "      <td>10</td>\n",
       "      <td>10</td>\n",
       "      <td>2113</td>\n",
       "      <td>[74017, 0]</td>\n",
       "      <td>2</td>\n",
       "      <td>813</td>\n",
       "      <td>69</td>\n",
       "      <td>2</td>\n",
       "      <td>0.438654</td>\n",
       "    </tr>\n",
       "    <tr>\n",
       "      <th>988674</th>\n",
       "      <td>7</td>\n",
       "      <td>L3</td>\n",
       "      <td>Tuesday</td>\n",
       "      <td>13</td>\n",
       "      <td>7</td>\n",
       "      <td>2113</td>\n",
       "      <td>[44337, 0]</td>\n",
       "      <td>2</td>\n",
       "      <td>621</td>\n",
       "      <td>37</td>\n",
       "      <td>2</td>\n",
       "      <td>0.440783</td>\n",
       "    </tr>\n",
       "    <tr>\n",
       "      <th>988675</th>\n",
       "      <td>6</td>\n",
       "      <td>L6</td>\n",
       "      <td>Friday</td>\n",
       "      <td>5</td>\n",
       "      <td>8</td>\n",
       "      <td>2113</td>\n",
       "      <td>[38715, 0]</td>\n",
       "      <td>4</td>\n",
       "      <td>0</td>\n",
       "      <td>2</td>\n",
       "      <td>2</td>\n",
       "      <td>0.448925</td>\n",
       "    </tr>\n",
       "    <tr>\n",
       "      <th>988680</th>\n",
       "      <td>1</td>\n",
       "      <td>L4</td>\n",
       "      <td>Thursday</td>\n",
       "      <td>15</td>\n",
       "      <td>1</td>\n",
       "      <td>2116</td>\n",
       "      <td>[76673, 0]</td>\n",
       "      <td>2</td>\n",
       "      <td>4544</td>\n",
       "      <td>18</td>\n",
       "      <td>2</td>\n",
       "      <td>0.438613</td>\n",
       "    </tr>\n",
       "  </tbody>\n",
       "</table>\n",
       "</div>"
      ],
      "text/plain": [
       "        row_num locale day_of_week  hour_of_day  agent_id  entry_page  \\\n",
       "988671       10     L4   Wednesday           23        10        8001   \n",
       "988672        9     L1      Sunday           10        10        2113   \n",
       "988674        7     L3     Tuesday           13         7        2113   \n",
       "988675        6     L6      Friday            5         8        2113   \n",
       "988680        1     L4    Thursday           15         1        2116   \n",
       "\n",
       "       path_id_set  traffic_type session_durantion hits  path_length  path_imp  \n",
       "988671     [79178]             1               173    3            1  0.000304  \n",
       "988672  [74017, 0]             2               813   69            2  0.438654  \n",
       "988674  [44337, 0]             2               621   37            2  0.440783  \n",
       "988675  [38715, 0]             4                 0    2            2  0.448925  \n",
       "988680  [76673, 0]             2              4544   18            2  0.438613  "
      ]
     },
     "execution_count": 3,
     "metadata": {},
     "output_type": "execute_result"
    }
   ],
   "source": [
    "import itertools\n",
    "path_ids=[]\n",
    "df['path_id_set'].apply(lambda x : path_ids.append(x))\n",
    "path_ids_list =  list(itertools.chain(*path_ids))\n",
    "\n",
    "import collections\n",
    "counter = collections.Counter(path_ids_list)\n",
    "\n",
    "def imp(counter):\n",
    "    imp_dict = {}\n",
    "    for key,value in dict(counter).items():\n",
    "        imp_dict[key] = value/sum(counter.values())\n",
    "    return imp_dict\n",
    "imp_dict = imp(counter)     \n",
    "\n",
    "df['path_imp'] = df['path_id_set'].apply(lambda x : sum([imp_dict[i] for i in x]))\n",
    "df.tail()"
   ]
  },
  {
   "cell_type": "markdown",
   "metadata": {},
   "source": [
    "Similarly `entry_page_imp` is added. As `entry_page` can't be used directly."
   ]
  },
  {
   "cell_type": "code",
   "execution_count": 4,
   "metadata": {},
   "outputs": [
    {
     "data": {
      "text/html": [
       "<div>\n",
       "<style scoped>\n",
       "    .dataframe tbody tr th:only-of-type {\n",
       "        vertical-align: middle;\n",
       "    }\n",
       "\n",
       "    .dataframe tbody tr th {\n",
       "        vertical-align: top;\n",
       "    }\n",
       "\n",
       "    .dataframe thead th {\n",
       "        text-align: right;\n",
       "    }\n",
       "</style>\n",
       "<table border=\"1\" class=\"dataframe\">\n",
       "  <thead>\n",
       "    <tr style=\"text-align: right;\">\n",
       "      <th></th>\n",
       "      <th>row_num</th>\n",
       "      <th>locale</th>\n",
       "      <th>day_of_week</th>\n",
       "      <th>hour_of_day</th>\n",
       "      <th>agent_id</th>\n",
       "      <th>entry_page</th>\n",
       "      <th>path_id_set</th>\n",
       "      <th>traffic_type</th>\n",
       "      <th>session_durantion</th>\n",
       "      <th>hits</th>\n",
       "      <th>path_length</th>\n",
       "      <th>path_imp</th>\n",
       "      <th>entry_page_imp</th>\n",
       "    </tr>\n",
       "  </thead>\n",
       "  <tbody>\n",
       "    <tr>\n",
       "      <th>988671</th>\n",
       "      <td>10</td>\n",
       "      <td>L4</td>\n",
       "      <td>Wednesday</td>\n",
       "      <td>23</td>\n",
       "      <td>10</td>\n",
       "      <td>8001</td>\n",
       "      <td>[79178]</td>\n",
       "      <td>1</td>\n",
       "      <td>173</td>\n",
       "      <td>3</td>\n",
       "      <td>1</td>\n",
       "      <td>0.000304</td>\n",
       "      <td>0.017549</td>\n",
       "    </tr>\n",
       "    <tr>\n",
       "      <th>988672</th>\n",
       "      <td>9</td>\n",
       "      <td>L1</td>\n",
       "      <td>Sunday</td>\n",
       "      <td>10</td>\n",
       "      <td>10</td>\n",
       "      <td>2113</td>\n",
       "      <td>[74017, 0]</td>\n",
       "      <td>2</td>\n",
       "      <td>813</td>\n",
       "      <td>69</td>\n",
       "      <td>2</td>\n",
       "      <td>0.438654</td>\n",
       "      <td>0.332617</td>\n",
       "    </tr>\n",
       "    <tr>\n",
       "      <th>988674</th>\n",
       "      <td>7</td>\n",
       "      <td>L3</td>\n",
       "      <td>Tuesday</td>\n",
       "      <td>13</td>\n",
       "      <td>7</td>\n",
       "      <td>2113</td>\n",
       "      <td>[44337, 0]</td>\n",
       "      <td>2</td>\n",
       "      <td>621</td>\n",
       "      <td>37</td>\n",
       "      <td>2</td>\n",
       "      <td>0.440783</td>\n",
       "      <td>0.332617</td>\n",
       "    </tr>\n",
       "    <tr>\n",
       "      <th>988675</th>\n",
       "      <td>6</td>\n",
       "      <td>L6</td>\n",
       "      <td>Friday</td>\n",
       "      <td>5</td>\n",
       "      <td>8</td>\n",
       "      <td>2113</td>\n",
       "      <td>[38715, 0]</td>\n",
       "      <td>4</td>\n",
       "      <td>0</td>\n",
       "      <td>2</td>\n",
       "      <td>2</td>\n",
       "      <td>0.448925</td>\n",
       "      <td>0.332617</td>\n",
       "    </tr>\n",
       "    <tr>\n",
       "      <th>988680</th>\n",
       "      <td>1</td>\n",
       "      <td>L4</td>\n",
       "      <td>Thursday</td>\n",
       "      <td>15</td>\n",
       "      <td>1</td>\n",
       "      <td>2116</td>\n",
       "      <td>[76673, 0]</td>\n",
       "      <td>2</td>\n",
       "      <td>4544</td>\n",
       "      <td>18</td>\n",
       "      <td>2</td>\n",
       "      <td>0.438613</td>\n",
       "      <td>0.202408</td>\n",
       "    </tr>\n",
       "  </tbody>\n",
       "</table>\n",
       "</div>"
      ],
      "text/plain": [
       "        row_num locale day_of_week  hour_of_day  agent_id  entry_page  \\\n",
       "988671       10     L4   Wednesday           23        10        8001   \n",
       "988672        9     L1      Sunday           10        10        2113   \n",
       "988674        7     L3     Tuesday           13         7        2113   \n",
       "988675        6     L6      Friday            5         8        2113   \n",
       "988680        1     L4    Thursday           15         1        2116   \n",
       "\n",
       "       path_id_set  traffic_type session_durantion hits  path_length  \\\n",
       "988671     [79178]             1               173    3            1   \n",
       "988672  [74017, 0]             2               813   69            2   \n",
       "988674  [44337, 0]             2               621   37            2   \n",
       "988675  [38715, 0]             4                 0    2            2   \n",
       "988680  [76673, 0]             2              4544   18            2   \n",
       "\n",
       "        path_imp  entry_page_imp  \n",
       "988671  0.000304        0.017549  \n",
       "988672  0.438654        0.332617  \n",
       "988674  0.440783        0.332617  \n",
       "988675  0.448925        0.332617  \n",
       "988680  0.438613        0.202408  "
      ]
     },
     "execution_count": 4,
     "metadata": {},
     "output_type": "execute_result"
    }
   ],
   "source": [
    "entry_page_counter = collections.Counter(df['entry_page'].tolist())\n",
    "entry_page_dict = imp(entry_page_counter)\n",
    "df['entry_page_imp'] = df['entry_page'].apply(lambda x : entry_page_dict[x])\n",
    "df.tail()"
   ]
  },
  {
   "cell_type": "code",
   "execution_count": 6,
   "metadata": {},
   "outputs": [
    {
     "data": {
      "text/plain": [
       "Index(['row_num', 'locale', 'day_of_week', 'hour_of_day', 'agent_id',\n",
       "       'entry_page', 'path_id_set', 'traffic_type', 'session_durantion',\n",
       "       'hits', 'path_length', 'path_imp', 'entry_page_imp'],\n",
       "      dtype='object')"
      ]
     },
     "execution_count": 6,
     "metadata": {},
     "output_type": "execute_result"
    }
   ],
   "source": [
    "df.columns"
   ]
  },
  {
   "cell_type": "code",
   "execution_count": 7,
   "metadata": {},
   "outputs": [],
   "source": [
    "df['session_durantion'] = pd.to_numeric(df['session_durantion'])\n",
    "df['hits'] = pd.to_numeric(df['hits'])\n"
   ]
  },
  {
   "cell_type": "markdown",
   "metadata": {},
   "source": [
    "__It looks like 19:00 has highest hits as well as highest frequency.__"
   ]
  },
  {
   "cell_type": "code",
   "execution_count": 8,
   "metadata": {},
   "outputs": [
    {
     "data": {
      "image/png": "[encoded data removed]",
      "text/plain": [
       "<Figure size 432x288 with 1 Axes>"
      ]
     },
     "metadata": {},
     "output_type": "display_data"
    }
   ],
   "source": [
    "%matplotlib inline\n",
    "\n",
    "#import pylab as plt\n",
    "import matplotlib.pyplot as plt\n",
    "import pandas as pd\n",
    "import seaborn as sns\n",
    "np = pd.np\n",
    "df.groupby('hour_of_day').agg({'hits':'sum'}).plot.bar(figsize=(6,4))\n",
    "plt.ylabel('hits')\n",
    "plt.show()"
   ]
  },
  {
   "cell_type": "code",
   "execution_count": 9,
   "metadata": {},
   "outputs": [
    {
     "data": {
      "image/png": "[encoded data removed]",
      "text/plain": [
       "<Figure size 432x288 with 1 Axes>"
      ]
     },
     "metadata": {},
     "output_type": "display_data"
    }
   ],
   "source": [
    "sns.countplot(x='hour_of_day',data=df, palette='hls')\n",
    "plt.ylabel('Frequency')\n",
    "plt.show()"
   ]
  },
  {
   "cell_type": "markdown",
   "metadata": {},
   "source": [
    "__It looks like Tuesday has lowest frequency but highest hits.__"
   ]
  },
  {
   "cell_type": "code",
   "execution_count": 10,
   "metadata": {},
   "outputs": [
    {
     "data": {
      "image/png": "[encoded data removed]",
      "text/plain": [
       "<Figure size 432x288 with 1 Axes>"
      ]
     },
     "metadata": {},
     "output_type": "display_data"
    }
   ],
   "source": [
    "ax = df.groupby('day_of_week').agg({'hits':'sum'}).plot.bar(figsize=(6,4))\n",
    "ax.set_xticklabels(['Monday', 'Tuesday', 'Wednesday', 'Thursday', 'Friday','Saturday','Sunday'])\n",
    "plt.ylabel('hits')\n",
    "plt.show()"
   ]
  },
  {
   "cell_type": "code",
   "execution_count": 11,
   "metadata": {},
   "outputs": [
    {
     "data": {
      "image/png": "[encoded data removed]",
      "text/plain": [
       "<Figure size 432x288 with 1 Axes>"
      ]
     },
     "metadata": {},
     "output_type": "display_data"
    }
   ],
   "source": [
    "ax = sns.countplot(x='day_of_week',data=df, palette='hls')\n",
    "ax.set_xticklabels(['Monday', 'Tuesday', 'Wednesday', 'Thursday', 'Friday','Saturday','Sunday'])\n",
    "plt.ylabel('Frequency')\n",
    "plt.show()"
   ]
  },
  {
   "cell_type": "markdown",
   "metadata": {},
   "source": [
    "__L3 has highest frequency as well as highest no of hits. Of the rest L1 has second highest frequency but lowest hits.__"
   ]
  },
  {
   "cell_type": "code",
   "execution_count": 12,
   "metadata": {},
   "outputs": [
    {
     "data": {
      "image/png": "[encoded data removed]",
      "text/plain": [
       "<Figure size 432x288 with 1 Axes>"
      ]
     },
     "metadata": {},
     "output_type": "display_data"
    }
   ],
   "source": [
    "df.groupby('locale').agg({'hits':'sum'}).plot.bar(figsize=(6,4))\n",
    "plt.ylabel('hits')\n",
    "plt.show()"
   ]
  },
  {
   "cell_type": "code",
   "execution_count": 13,
   "metadata": {},
   "outputs": [
    {
     "data": {
      "image/png": "[encoded data removed]",
      "text/plain": [
       "<Figure size 432x288 with 1 Axes>"
      ]
     },
     "metadata": {},
     "output_type": "display_data"
    }
   ],
   "source": [
    "ax = sns.countplot(x='locale',data=df, palette='hls')\n",
    "ax.set_xticklabels(['L1', 'L2', 'L3', 'L4', 'L5','L6'])\n",
    "plt.ylabel('Frequency')\n",
    "plt.show()"
   ]
  },
  {
   "cell_type": "markdown",
   "metadata": {},
   "source": [
    "__Agent 10 has highest hits as well as highest frequency in the data. Seems other agents frequency is proportional to the hits received.__"
   ]
  },
  {
   "cell_type": "code",
   "execution_count": 14,
   "metadata": {},
   "outputs": [
    {
     "data": {
      "image/png": "[encoded data removed]",
      "text/plain": [
       "<Figure size 432x288 with 1 Axes>"
      ]
     },
     "metadata": {},
     "output_type": "display_data"
    }
   ],
   "source": [
    "df.groupby('agent_id').agg({'hits':'sum'}).plot.bar(figsize=(6,4))\n",
    "plt.ylabel('hits')\n",
    "plt.show()"
   ]
  },
  {
   "cell_type": "code",
   "execution_count": 15,
   "metadata": {},
   "outputs": [
    {
     "data": {
      "image/png": "[encoded data removed]",
      "text/plain": [
       "<Figure size 432x288 with 1 Axes>"
      ]
     },
     "metadata": {},
     "output_type": "display_data"
    }
   ],
   "source": [
    "sns.countplot(x='agent_id',data=df, palette='hls')\n",
    "plt.ylabel('Frequency')\n",
    "plt.show()"
   ]
  },
  {
   "cell_type": "markdown",
   "metadata": {},
   "source": [
    "__Traffic_type 2 has highest frequency, though Traffic_type 1 has highest hits.__"
   ]
  },
  {
   "cell_type": "code",
   "execution_count": 16,
   "metadata": {},
   "outputs": [
    {
     "data": {
      "image/png": "[encoded data removed]",
      "text/plain": [
       "<Figure size 432x288 with 1 Axes>"
      ]
     },
     "metadata": {},
     "output_type": "display_data"
    }
   ],
   "source": [
    "df.groupby('traffic_type').agg({'hits':'sum'}).plot.bar(figsize=(6,4))\n",
    "plt.ylabel('hits')\n",
    "plt.show()"
   ]
  },
  {
   "cell_type": "code",
   "execution_count": 17,
   "metadata": {},
   "outputs": [
    {
     "data": {
      "image/png": "[encoded data removed]",
      "text/plain": [
       "<Figure size 432x288 with 1 Axes>"
      ]
     },
     "metadata": {},
     "output_type": "display_data"
    }
   ],
   "source": [
    "sns.countplot(x='traffic_type',data=df, palette='hls')\n",
    "plt.ylabel('Frequency')\n",
    "plt.show()"
   ]
  },
  {
   "cell_type": "markdown",
   "metadata": {},
   "source": [
    "__Looks like the Path_length of 2 has higher frequency as well as hiher hits.__"
   ]
  },
  {
   "cell_type": "code",
   "execution_count": 18,
   "metadata": {},
   "outputs": [
    {
     "data": {
      "image/png": "[encoded data removed]",
      "text/plain": [
       "<Figure size 432x288 with 1 Axes>"
      ]
     },
     "metadata": {},
     "output_type": "display_data"
    }
   ],
   "source": [
    "df.groupby('path_length').agg({'hits':'sum'}).plot.bar(figsize=(6,4))\n",
    "plt.xlim((0,20))\n",
    "plt.ylabel('hits')\n",
    "plt.show()"
   ]
  },
  {
   "cell_type": "code",
   "execution_count": 19,
   "metadata": {},
   "outputs": [
    {
     "data": {
      "image/png": "[encoded data removed]",
      "text/plain": [
       "<Figure size 432x288 with 1 Axes>"
      ]
     },
     "metadata": {},
     "output_type": "display_data"
    }
   ],
   "source": [
    "sns.countplot(x='path_length',data=df, palette='hls')\n",
    "plt.ylabel('Frequency')\n",
    "plt.xlim((0,20))\n",
    "plt.show()"
   ]
  },
  {
   "cell_type": "markdown",
   "metadata": {},
   "source": [
    "__The distribution of hits ranges from 0 to 4000+, which means a lot of variance. The hit size of 3 is more frequent.__"
   ]
  },
  {
   "cell_type": "code",
   "execution_count": 20,
   "metadata": {},
   "outputs": [
    {
     "name": "stderr",
     "output_type": "stream",
     "text": [
      "/Users/raghuramkalyanam/anaconda/lib/python3.6/site-packages/scipy/stats/stats.py:1706: FutureWarning: Using a non-tuple sequence for multidimensional indexing is deprecated; use `arr[tuple(seq)]` instead of `arr[seq]`. In the future this will be interpreted as an array index, `arr[np.array(seq)]`, which will result either in an error or a different result.\n",
      "  return np.add.reduce(sorted[indexer] * weights, axis=axis) / sumval\n",
      "/Users/raghuramkalyanam/anaconda/lib/python3.6/site-packages/matplotlib/axes/_axes.py:6462: UserWarning: The 'normed' kwarg is deprecated, and has been replaced by the 'density' kwarg.\n",
      "  warnings.warn(\"The 'normed' kwarg is deprecated, and has been \"\n"
     ]
    },
    {
     "data": {
      "image/png": "[encoded data removed]",
      "text/plain": [
       "<Figure size 432x288 with 1 Axes>"
      ]
     },
     "metadata": {},
     "output_type": "display_data"
    }
   ],
   "source": [
    "sns.distplot(df['hits'])\n",
    "plt.show()"
   ]
  },
  {
   "cell_type": "code",
   "execution_count": 21,
   "metadata": {},
   "outputs": [
    {
     "data": {
      "image/png": "[encoded data removed]",
      "text/plain": [
       "<Figure size 1152x288 with 1 Axes>"
      ]
     },
     "metadata": {},
     "output_type": "display_data"
    }
   ],
   "source": [
    "df.groupby('hits').agg({'hits':'sum'}).plot.bar(figsize=(16,4))\n",
    "plt.xlim((0,100))\n",
    "plt.ylabel('hits')\n",
    "plt.show()"
   ]
  },
  {
   "cell_type": "markdown",
   "metadata": {},
   "source": [
    "__It seems the `session_durantion` has highest frequency at near zero, and also highest hits.__"
   ]
  },
  {
   "cell_type": "code",
   "execution_count": 27,
   "metadata": {},
   "outputs": [
    {
     "data": {
      "image/png": "[encoded data removed]",
      "text/plain": [
       "<Figure size 432x288 with 1 Axes>"
      ]
     },
     "metadata": {},
     "output_type": "display_data"
    }
   ],
   "source": [
    "sns.countplot(x='session_durantion',data=df, palette='hls')\n",
    "plt.ylabel('Frequency')\n",
    "plt.xlim((-1,20))\n",
    "plt.show()"
   ]
  },
  {
   "cell_type": "code",
   "execution_count": 26,
   "metadata": {},
   "outputs": [
    {
     "data": {
      "image/png": "[encoded data removed]",
      "text/plain": [
       "<Figure size 1152x288 with 1 Axes>"
      ]
     },
     "metadata": {},
     "output_type": "display_data"
    }
   ],
   "source": [
    "df.groupby('session_durantion').agg({'hits':'sum'}).plot.bar(figsize=(16,4))\n",
    "plt.xlim((-1,100))\n",
    "plt.ylabel('hits')\n",
    "plt.show()"
   ]
  },
  {
   "cell_type": "markdown",
   "metadata": {},
   "source": [
    "__The correlation of each feature with the dependent variable. Looks like `path_length` is a good feature. Though `traffic_type` shows considerable correlation, it is categorical.__"
   ]
  },
  {
   "cell_type": "code",
   "execution_count": 23,
   "metadata": {},
   "outputs": [
    {
     "data": {
      "text/html": [
       "<div>\n",
       "<style scoped>\n",
       "    .dataframe tbody tr th:only-of-type {\n",
       "        vertical-align: middle;\n",
       "    }\n",
       "\n",
       "    .dataframe tbody tr th {\n",
       "        vertical-align: top;\n",
       "    }\n",
       "\n",
       "    .dataframe thead th {\n",
       "        text-align: right;\n",
       "    }\n",
       "</style>\n",
       "<table border=\"1\" class=\"dataframe\">\n",
       "  <thead>\n",
       "    <tr style=\"text-align: right;\">\n",
       "      <th></th>\n",
       "      <th>hits</th>\n",
       "    </tr>\n",
       "  </thead>\n",
       "  <tbody>\n",
       "    <tr>\n",
       "      <th>row_num</th>\n",
       "      <td>0.001905</td>\n",
       "    </tr>\n",
       "    <tr>\n",
       "      <th>hour_of_day</th>\n",
       "      <td>-0.007967</td>\n",
       "    </tr>\n",
       "    <tr>\n",
       "      <th>agent_id</th>\n",
       "      <td>-0.012523</td>\n",
       "    </tr>\n",
       "    <tr>\n",
       "      <th>entry_page</th>\n",
       "      <td>-0.032017</td>\n",
       "    </tr>\n",
       "    <tr>\n",
       "      <th>traffic_type</th>\n",
       "      <td>-0.201205</td>\n",
       "    </tr>\n",
       "    <tr>\n",
       "      <th>session_durantion</th>\n",
       "      <td>0.245530</td>\n",
       "    </tr>\n",
       "    <tr>\n",
       "      <th>hits</th>\n",
       "      <td>1.000000</td>\n",
       "    </tr>\n",
       "    <tr>\n",
       "      <th>path_length</th>\n",
       "      <td>0.402318</td>\n",
       "    </tr>\n",
       "    <tr>\n",
       "      <th>path_imp</th>\n",
       "      <td>0.099270</td>\n",
       "    </tr>\n",
       "    <tr>\n",
       "      <th>entry_page_imp</th>\n",
       "      <td>-0.049214</td>\n",
       "    </tr>\n",
       "  </tbody>\n",
       "</table>\n",
       "</div>"
      ],
      "text/plain": [
       "                       hits\n",
       "row_num            0.001905\n",
       "hour_of_day       -0.007967\n",
       "agent_id          -0.012523\n",
       "entry_page        -0.032017\n",
       "traffic_type      -0.201205\n",
       "session_durantion  0.245530\n",
       "hits               1.000000\n",
       "path_length        0.402318\n",
       "path_imp           0.099270\n",
       "entry_page_imp    -0.049214"
      ]
     },
     "execution_count": 23,
     "metadata": {},
     "output_type": "execute_result"
    }
   ],
   "source": [
    "df.corr().iloc[:,-4:-3]"
   ]
  },
  {
   "cell_type": "markdown",
   "metadata": {},
   "source": [
    "__Getting dummies for all the categorical variables.__"
   ]
  },
  {
   "cell_type": "code",
   "execution_count": 5,
   "metadata": {},
   "outputs": [],
   "source": [
    "df.drop(columns = ['entry_page','path_id_set'],inplace = True )\n",
    "\n",
    "df = pd.get_dummies(df, prefix = ['locale','day_of_week','agent_id','traffic_type'], columns = ['locale','day_of_week','agent_id','traffic_type'] )\n"
   ]
  },
  {
   "cell_type": "code",
   "execution_count": 24,
   "metadata": {},
   "outputs": [],
   "source": [
    "#import numpy as np\n",
    "#df['log_session_durantion'] =df['session_durantion'].apply(np.log)\n",
    "#df['log_session_durantion'] = df['log_session_durantion'].replace(-np.inf,0)\n",
    "\n",
    "df = df [['row_num', 'hour_of_day','session_durantion','path_length',\n",
    "           'path_imp', 'entry_page_imp', 'locale_L1', 'locale_L2', 'locale_L3',\n",
    "           'locale_L4', 'locale_L5', 'locale_L6','day_of_week_Monday',\n",
    "            'day_of_week_Tuesday','day_of_week_Wednesday','day_of_week_Thursday',\n",
    "            'day_of_week_Friday','day_of_week_Saturday', 'day_of_week_Sunday',\n",
    "           'agent_id_0', 'agent_id_1', 'agent_id_2', 'agent_id_3', 'agent_id_4',\n",
    "           'agent_id_5', 'agent_id_7', 'agent_id_8', 'agent_id_9', 'agent_id_10',\n",
    "           'agent_id_11', 'agent_id_12', 'agent_id_13', 'agent_id_14',\n",
    "           'agent_id_15', 'traffic_type_1', 'traffic_type_2', 'traffic_type_3',\n",
    "           'traffic_type_4', 'traffic_type_6', 'traffic_type_7',\n",
    "           'traffic_type_10','hits']]"
   ]
  },
  {
   "cell_type": "markdown",
   "metadata": {},
   "source": [
    "__More information is provided in the python files. The final result achieved is around MSE of 31.7 hits on the validation data.__"
   ]
  }
 ],
 "metadata": {
  "kernelspec": {
   "display_name": "Python 3",
   "language": "python",
   "name": "python3"
  },
  "language_info": {
   "codemirror_mode": {
    "name": "ipython",
    "version": 3
   },
   "file_extension": ".py",
   "mimetype": "text/x-python",
   "name": "python",
   "nbconvert_exporter": "python",
   "pygments_lexer": "ipython3",
   "version": "3.6.4"
  }
 },
 "nbformat": 4,
 "nbformat_minor": 4
}
